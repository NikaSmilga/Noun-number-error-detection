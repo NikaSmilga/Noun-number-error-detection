{
 "cells": [
  {
   "cell_type": "code",
   "execution_count": 991,
   "metadata": {},
   "outputs": [],
   "source": [
    "import spacy\n",
    "import re"
   ]
  },
  {
   "cell_type": "code",
   "execution_count": 2,
   "metadata": {},
   "outputs": [],
   "source": [
    "nlp = spacy.load(\"en_core_web_sm\")"
   ]
  },
  {
   "cell_type": "code",
   "execution_count": 1011,
   "metadata": {},
   "outputs": [],
   "source": [
    "unc_list0 = [] #you may specify your own list of uncountable nouns here \n",
    "unc_list = unc_list0 + ['experience', 'discussion', 'effort', 'support', 'stress', 'care', 'suffering', 'crime', 'noise', 'trouble', 'influence', 'space']"
   ]
  },
  {
   "cell_type": "code",
   "execution_count": 1014,
   "metadata": {
    "id": "aACN_BlCC3Bk"
   },
   "outputs": [],
   "source": [
    "def quantifiers(doc, unc_list): \n",
    "    docs = nlp(doc)\n",
    "    erroneous = []\n",
    "    uncount = ['much', 'less', 'least']\n",
    "    uncount_of = ['deal', 'amount', 'smidge', 'much']\n",
    "    count_pl = ['many', 'few', 'fewer', 'fewest', 'several', 'various', 'numerous', 'countless']\n",
    "    count_pl_special = ['these', 'those'] \n",
    "    count_pl_of = ['number', 'numbers', 'couple', 'dozens', 'hundreds', 'thousands', 'millions', 'billions', \n",
    "                   'zillions', 'dozen', 'hundred','thousand', 'million', 'billion', 'zillion', 'one', 'each',\n",
    "                   'every' , 'either', 'neither', 'both', 'several', 'few', 'various', 'countless', 'numerous', \n",
    "                   'another']\n",
    "    count_sg_pl_quantified = ['each', 'every', 'another'] \n",
    "    uncount_count_sg = ['this', 'that', 'one']\n #needs uncountable words list to be checked",
    "    uncount_count_pl = ['enough'] #needs uncountable words list to be checked",
    "    uncount_count_pl_of = ['lot', 'lots', 'none', 'bags', 'heaps', 'loads', 'oodles', 'stacks'] \n",
    "    quantifiers = uncount + count_pl + uncount_count_sg + uncount_count_pl\n",
    "    quantifiers_of = uncount_of + count_pl_of + uncount_count_pl_of\n",
    "    for num, d in enumerate(docs.sents):\n",
    "        for i in d:\n",
    "            if i.text.lower() in quantifiers:\n",
    "                if (i.text.lower() in uncount or i.text.lower() in uncount_count_sg)\\\n",
    "                and 'Plur' in i.head.morph.get(\"Number\") and i.head.pos_ == 'NOUN':\n",
    "                    if i.text.lower() == 'that' and (i.pos_ == 'SCONJ' or i.dep_ != 'det'):\n",
    "                        pass\n",
    "                    elif i.text.lower() == 'one' and (i.pos_ == 'PRON' or i.dep_ != 'nummod'):\n",
    "                        pass\n",
    "                    else:\n",
    "                        erroneous.append([str(d), i.text.lower(), i.head, 'uncount_count_sg'])  \n",
    "                elif i.text.lower() in count_pl and 'Sing' in i.head.morph.get(\"Number\")\\\n",
    "                and i.head.pos_ == 'NOUN':\n",
    "                    erroneous.append([str(d), i.text.lower(), i.head,'count_pl'])  \n",
    "                elif i.text.lower() in uncount_count_pl and 'Sing' in i.head.morph.get(\"Number\")\\\n",
    "                and i.head.text.lower() not in unc_list and 'NOUN' in i.head.pos_: \n",
    "                    erroneous.append([str(d), i.text.lower(), i.head,'enough'])\n",
    "            elif i.text.lower() in quantifiers_of:\n",
    "                for child in i.children:\n",
    "                    if child.text.lower() == 'of':\n",
    "                        for c in child.children:\n",
    "                            if c.pos_ == 'NOUN':\n",
    "                                if 'Sing' in c.morph.get(\"Number\")[0] and i.text.lower() in count_pl_of:\n",
    "                                    erroneous.append([str(d), i.text.lower(), c.text.lower(), 'count_pl_of']) \n",
    "                                elif 'Sing' in c.morph.get(\"Number\")[0] and i.text.lower() in uncount_count_pl_of\\\n",
    "                                and c.text not in unc_list:\n",
    "                                     erroneous.append([str(d), i.text.lower(), c.text.lower(), 'count_pl_of']) \n",
    "                                elif 'Plur' in c.morph.get(\"Number\")[0] and i.text.lower() in uncount_of:\n",
    "                                    erroneous.append([str(d), i.text.lower(), c.text.lower(),'uncount_of'])  \n",
    "                            elif 'ADJ' in [str(x.pos_) for x in child.children]:\n",
    "                                if i.text.lower() in uncount_of:\n",
    "                                    erroneous.append([str(d), i.text.lower(), c.text.lower(),'uncount_of'])  \n",
    "            elif i.text.lower() in count_sg_pl_quantified:\n",
    "                if 'NUM' not in [str(x.pos_) for x in i.head.children]\\\n",
    "                and 'few' not in [str(x).lower() for x in i.head.children]:\n",
    "                    if 'Plur' in i.head.morph.get(\"Number\"):\n",
    "                        erroneous.append([str(d), i.text.lower(), i.head.lower(),'count_sg_pl_quantified'])  \n",
    "            elif i.text.lower() == 'either' or i.text.lower() == 'neither':\n",
    "                if 'or' not in [str(x).lower() for x in i.head.children]\\\n",
    "                and 'nor' not in [str(x).lower() for x in i.head.children]:\n",
    "                    if 'Plur' in i.head.morph.get(\"Number\"):\n",
    "                        erroneous.append([str(d), i.text.lower(), i.head.lower(),'either/neither'])  \n",
    "            elif i.text.lower() == 'both':\n",
    "                children_second_level = []\n",
    "                if 'and' not in [str(x).lower() for x in i.head.children]\\\n",
    "                and 'ADP' not in [x.pos_ for x in i.children]:\n",
    "                    for child in i.head.children:\n",
    "                        children_second_level.append([str(x).lower() for x in child.children])\n",
    "                    if 'and' in [item for sublist in children_second_level for item in sublist]:\n",
    "                        pass\n",
    "                    else:\n",
    "                        if 'Sing' in i.head.morph.get(\"Number\") and\\\n",
    "                        (i.head.pos_ == 'NOUN' or i.head.pos_ == 'PRON'):\n",
    "                            if [str(d), i.text.lower(), i.head.lower(),'both'] not in erroneous:\n",
    "                                erroneous.append([str(d), i.text.lower(), i.head.lower(),'both'])\n",
    "            elif i.text.lower() in count_pl_special and i.dep_ == 'det':\n",
    "                if i.head.text.lower() != 'kind' and i.head.text.lower() != 'type'\\\n",
    "                and i.head.text.lower() != 'sort':\n",
    "                    if 'Sing' in i.head.morph.get(\"Number\"):\n",
    "                        erroneous.append([str(d), i.text.lower(), i.head.lower(),'count_pl_special'])\n",
    "            elif i.pos_ == \"NUM\" and i.text.lower() != \"one\" and i.text != \"1\"\\\n",
    "            and (i.head.pos_ == \"NOUN\" or i.head.pos_ == \"ADJ\"):\n",
    "                if re.match(r'hundreds|thousands|millions|billions|zillions', i.head.text.lower()):\n",
    "                    erroneous.append([str(d), i.text.lower(), i.head, 'numerals'])\n",
    "                \n",
    "    return erroneous"
   ]
  },
  {
   "cell_type": "code",
   "execution_count": null,
   "metadata": {},
   "outputs": [],
   "source": []
  }
 ],
 "metadata": {
  "colab": {
   "name": "quantifiers.ipynb",
   "provenance": []
  },
  "kernelspec": {
   "display_name": "Python 3",
   "language": "python",
   "name": "python3"
  },
  "language_info": {
   "codemirror_mode": {
    "name": "ipython",
    "version": 3
   },
   "file_extension": ".py",
   "mimetype": "text/x-python",
   "name": "python",
   "nbconvert_exporter": "python",
   "pygments_lexer": "ipython3",
   "version": "3.8.8"
  }
 },
 "nbformat": 4,
 "nbformat_minor": 1
}
